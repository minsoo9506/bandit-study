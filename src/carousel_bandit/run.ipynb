{
 "cells": [
  {
   "cell_type": "code",
   "execution_count": null,
   "metadata": {},
   "outputs": [],
   "source": [
    "import pandas as pd\n",
    "import numpy as np\n",
    "from tqdm import tqdm\n",
    "import matplotlib.pyplot as plt"
   ]
  },
  {
   "cell_type": "code",
   "execution_count": 2,
   "metadata": {},
   "outputs": [],
   "source": [
    "user_features_df = pd.read_csv(\"../../data/carousel_bandit/user_features.csv\")\n",
    "playlist_feature_df = pd.read_csv(\"../../data/carousel_bandit/playlist_features.csv\")"
   ]
  },
  {
   "cell_type": "code",
   "execution_count": 3,
   "metadata": {},
   "outputs": [
    {
     "name": "stdout",
     "output_type": "stream",
     "text": [
      "user_features_df shape: (974960, 97)\n",
      "playlist_feature_df shape: (862, 97)\n"
     ]
    }
   ],
   "source": [
    "print(f\"user_features_df shape: {user_features_df.shape}\")\n",
    "print(f\"playlist_feature_df shape: {playlist_feature_df.shape}\")"
   ]
  },
  {
   "cell_type": "code",
   "execution_count": 4,
   "metadata": {},
   "outputs": [
    {
     "data": {
      "text/plain": [
       "Index(['segment', 'dim_0', 'dim_1', 'dim_2', 'dim_3', 'dim_4', 'dim_5',\n",
       "       'dim_6', 'dim_7', 'dim_8', 'dim_9', 'dim_10', 'dim_11', 'dim_12',\n",
       "       'dim_13', 'dim_14', 'dim_15', 'dim_16', 'dim_17', 'dim_18', 'dim_19',\n",
       "       'dim_20', 'dim_21', 'dim_22', 'dim_23', 'dim_24', 'dim_25', 'dim_26',\n",
       "       'dim_27', 'dim_28', 'dim_29', 'dim_30', 'dim_31', 'dim_32', 'dim_33',\n",
       "       'dim_34', 'dim_35', 'dim_36', 'dim_37', 'dim_38', 'dim_39', 'dim_40',\n",
       "       'dim_41', 'dim_42', 'dim_43', 'dim_44', 'dim_45', 'dim_46', 'dim_47',\n",
       "       'dim_48', 'dim_49', 'dim_50', 'dim_51', 'dim_52', 'dim_53', 'dim_54',\n",
       "       'dim_55', 'dim_56', 'dim_57', 'dim_58', 'dim_59', 'dim_60', 'dim_61',\n",
       "       'dim_62', 'dim_63', 'dim_64', 'dim_65', 'dim_66', 'dim_67', 'dim_68',\n",
       "       'dim_69', 'dim_70', 'dim_71', 'dim_72', 'dim_73', 'dim_74', 'dim_75',\n",
       "       'dim_76', 'dim_77', 'dim_78', 'dim_79', 'dim_80', 'dim_81', 'dim_82',\n",
       "       'dim_83', 'dim_84', 'dim_85', 'dim_86', 'dim_87', 'dim_88', 'dim_89',\n",
       "       'dim_90', 'dim_91', 'dim_92', 'dim_93', 'dim_94', 'dim_95'],\n",
       "      dtype='object')"
      ]
     },
     "execution_count": 4,
     "metadata": {},
     "output_type": "execute_result"
    }
   ],
   "source": [
    "user_features_df.columns"
   ]
  },
  {
   "cell_type": "code",
   "execution_count": 118,
   "metadata": {},
   "outputs": [],
   "source": [
    "n_users = user_features_df.shape[0]\n",
    "n_playlists = playlist_feature_df.shape[0]\n",
    "n_recos = 12\n",
    "l_init = 3\n",
    "n_users_per_round = 2000\n",
    "n_rounds = 50"
   ]
  },
  {
   "cell_type": "code",
   "execution_count": 6,
   "metadata": {},
   "outputs": [],
   "source": [
    "user_segment = np.array(user_features_df[\"segment\"])\n",
    "user_features = np.concatenate(\n",
    "    [user_features_df.drop([\"segment\"], axis=1), np.ones((n_users, 1))], axis=1\n",
    ")\n",
    "playlist_features = np.array(playlist_feature_df)"
   ]
  },
  {
   "cell_type": "code",
   "execution_count": 8,
   "metadata": {},
   "outputs": [],
   "source": [
    "# ContextualEnvironment 는 offline 에서 시뮬레이션을 위한 클래스\n",
    "# TODO: https://github.com/deezer/carousel_bandits/blob/master/environment.py 참고해서 구현"
   ]
  },
  {
   "cell_type": "code",
   "execution_count": 122,
   "metadata": {},
   "outputs": [],
   "source": [
    "class ContextualEnvironment:\n",
    "    def __init__(self, user_features, playlist_features, user_segment, n_recos):\n",
    "        self.user_features = user_features\n",
    "        self.playlist_features = playlist_features\n",
    "        self.user_segment = user_segment\n",
    "        self.n_recos = n_recos\n",
    "        self.th_rewards = np.zeros(user_features.shape[0])\n",
    "        self.th_segment_rewards = np.zeros(user_features.shape[0])\n",
    "        self.compute_optimal_theoretical_rewards()\n",
    "        self.compute_segment_optimal_theoretical_rewards()\n",
    "\n",
    "    # Computes highest expected reward for each user\n",
    "    def compute_optimal_theoretical_rewards(self):\n",
    "        n_users = self.user_features.shape[0]\n",
    "        step = 100000\n",
    "        for n_step in range(0, n_users, step):\n",
    "            users_ids = range(n_step, min(n_step + step, n_users))\n",
    "            opt_recos = self.compute_optimal_recos(users_ids, self.n_recos)\n",
    "            opt_rewards = self.compute_theoretical_rewards(users_ids, opt_recos)\n",
    "            self.th_rewards[n_step : n_step + step] = opt_rewards\n",
    "\n",
    "    # Computes list of n recommendations with highest expected reward for each user\n",
    "    def compute_optimal_recos(self, users_ids, n_recos):\n",
    "        users_ids_features = np.take(self.user_features, users_ids, axis=0)\n",
    "        probs = np.dot(users_ids_features, self.playlist_features.T)\n",
    "        optimal_recos = np.argsort(-probs)[:, :n_recos]\n",
    "        return optimal_recos\n",
    "\n",
    "    # Computes highest expected reward for each user\n",
    "    def compute_theoretical_rewards(self, users_ids, recos):\n",
    "        users_ids_features = np.take(self.user_features, users_ids, axis=0)\n",
    "        recos_features = np.take(self.playlist_features, recos, axis=0)\n",
    "        th_reward = np.zeros(len(users_ids))\n",
    "        for i in range(len(users_ids)):\n",
    "            probs = self.sigmoid(\n",
    "                np.dot(users_ids_features[i], recos_features[i].T)\n",
    "            )  # |probs| = (n_recos,)\n",
    "            th_reward[i] = 1 - np.prod(1 - probs)\n",
    "        return th_reward\n",
    "\n",
    "    def compute_segment_optimal_recos(self, n_recos):\n",
    "        n_seg = len(np.unique(self.user_segment))\n",
    "        seg_recos = np.zeros((n_seg, n_recos), dtype=np.int64)\n",
    "        for i in range(n_seg):\n",
    "            users_ids = np.where(self.user_segment == i)[0]\n",
    "            users_id_features = np.take(self.user_features, users_ids, axis=0)\n",
    "            probs = self.sigmoid(np.dot(users_id_features, self.playlist_features.T))\n",
    "            probs_mean = np.mean(\n",
    "                probs, axis=0\n",
    "            )  # |probs_mean| = (self.playlist_features.shape[0],)\n",
    "            seg_recos[i] = np.argsort(-probs_mean)[:n_recos]\n",
    "        return seg_recos\n",
    "\n",
    "    def compute_segment_optimal_theoretical_rewards(self):\n",
    "        n_users = self.user_features.shape[0]\n",
    "        seg_opt_recos = self.compute_segment_optimal_recos(self.n_recos)\n",
    "        step = 100000\n",
    "        for n_step in range(0, n_users, step):\n",
    "            users_ids = range(n_step, min(n_step + step, n_users))\n",
    "            user_seg = np.take(self.user_segment, users_ids)\n",
    "            opt_recos = np.take(seg_opt_recos, user_seg)\n",
    "            opt_rewards = self.compute_theoretical_rewards(users_ids, opt_recos)\n",
    "            self.th_segment_rewards[n_step : n_step + step] = opt_rewards\n",
    "\n",
    "    def sigmoid(self, x):\n",
    "        return 1 / (1 + np.exp(-x))\n",
    "\n",
    "    def simulate_batch_users_reward(self, batch_user_ids, batch_recos):\n",
    "        batch_user_features = np.take(self.user_features, batch_user_ids, axis=0)\n",
    "        batch_playlist_features = np.take(self.playlist_features, batch_recos, axis=0)\n",
    "        n_users = len(batch_user_ids)\n",
    "        n_playlists = len(batch_recos[0])\n",
    "        probs = np.zeros((n_users, n_playlists), dtype=np.float64)\n",
    "        for i in range(n_users):\n",
    "            probs[i] = self.sigmoid(\n",
    "                np.dot(batch_user_features[i], (batch_playlist_features[i].T))\n",
    "            )\n",
    "        rewards = np.zeros((n_users, n_playlists), dtype=np.int64)\n",
    "        rewards_uncascaded = np.random.binomial(1, probs)\n",
    "        positive_rewards = set()\n",
    "\n",
    "        # Then, for each user, positive rewards after the first one are set to 0 (and playlists as \"unseen\" subsequently) to imitate a cascading browsing behavior\n",
    "        # (nonetheless, users can be drawn several times in the batch of a same round ; therefore, each user\n",
    "        # can have several positive rewards - i.e. stream several playlists - in a same round, consistently with\n",
    "        # the multiple-plays framework from the paper)\n",
    "        # 유저가 처음 positive 가 발생한 것에 대해서만 reward 를 주고, 그 이후에는 0 으로 설정 하는 과정\n",
    "        nz = (\n",
    "            rewards_uncascaded.nonzero()\n",
    "        )  # nonzero 의 index, 2d 일떄 [0] 이 x, [1] 이 y 좌표\n",
    "        for i in range(len(nz[0])):\n",
    "            if nz[0][i] not in positive_rewards:\n",
    "                rewards[nz[0][i]][nz[1][i]] = 1\n",
    "                positive_rewards.add(nz[0][i])\n",
    "        return rewards"
   ]
  },
  {
   "cell_type": "code",
   "execution_count": 123,
   "metadata": {},
   "outputs": [],
   "source": [
    "cont_env = ContextualEnvironment(\n",
    "    user_features, playlist_features, user_segment, n_recos\n",
    ")"
   ]
  },
  {
   "cell_type": "code",
   "execution_count": 68,
   "metadata": {},
   "outputs": [],
   "source": [
    "class Policy:\n",
    "\n",
    "    # Returns a list of size n_recos of playlist ids\n",
    "    def recommend_to_users_batch(self, batch_users, n_recos=12):\n",
    "        return\n",
    "\n",
    "    # Updates policies parameters\n",
    "    def update_policy(self, user_ids, recos, rewards, l_init=3):\n",
    "        return"
   ]
  },
  {
   "cell_type": "code",
   "execution_count": 69,
   "metadata": {},
   "outputs": [],
   "source": [
    "# A simple baseline that randomly recommends n_recos playlists to each user.\n",
    "class RandomPolicy(Policy):\n",
    "    def __init__(self, n_playlists, cascade_model=True):\n",
    "        self.cascade_model = cascade_model\n",
    "        self.n_playlists = n_playlists\n",
    "\n",
    "    def recommend_to_users_batch(self, batch_users, n_recos=12, l_init=3):\n",
    "        n_users = len(batch_users)\n",
    "        recos = np.zeros((n_users, n_recos))\n",
    "        r = np.arange(self.n_playlists)\n",
    "        for i in range(n_users):\n",
    "            np.random.shuffle(r)\n",
    "            recos[i] = r[:n_recos]\n",
    "        return recos\n",
    "\n",
    "    def update_policy(self, user_ids, recos, rewards, l_init=3):\n",
    "        return"
   ]
  },
  {
   "cell_type": "code",
   "execution_count": 70,
   "metadata": {},
   "outputs": [],
   "source": [
    "# Segment-based Epsilon-Greedy strategy: recommends playlists randomly with probability epsilon,\n",
    "# otherwise recommends the top n_recos with highest mean observed rewards.\n",
    "class EpsilonGreedySegmentPolicy(Policy):\n",
    "    def __init__(self, user_segment, n_playlists, epsilon, cascade_model=True):\n",
    "        self.user_segment = user_segment\n",
    "        n_segments = len(np.unique(self.user_segment))\n",
    "        self.playlist_score = np.ones((n_segments, n_playlists))\n",
    "        self.epsilon = epsilon\n",
    "        self.cascade_model = cascade_model\n",
    "\n",
    "    def recommend_to_users_batch(self, batch_users, n_recos=12, l_init=3):\n",
    "        n_users = len(batch_users)\n",
    "        user_segment = np.take(self.user_segment, batch_users)\n",
    "        user_scores = np.take(self.playlist_score, user_segment, axis=0)\n",
    "        user_random_score = np.random.random(\n",
    "            user_scores.shape\n",
    "        )  # |user_random_score| = (n_users, n_playlists)\n",
    "        user_greedy = np.random.binomial(1, [1 - self.epsilon] * n_users)\n",
    "        new_scores = user_scores * user_greedy[:, np.newaxis]\n",
    "        user_choice = np.lexsort((user_random_score, -new_scores))[:, :n_recos]\n",
    "        # Shuffle l_init first slots\n",
    "        np.random.shuffle(user_choice[0:l_init])\n",
    "        return user_choice"
   ]
  },
  {
   "cell_type": "code",
   "execution_count": 135,
   "metadata": {},
   "outputs": [],
   "source": [
    "# Segment-based Thompson Sampling strategy, with Beta(alpha_zero,beta_zero) priors\n",
    "class TSSegmentPolicy(Policy):\n",
    "    def __init__(\n",
    "        self, user_segment, n_playlists, alpha_zero=1, beta_zero=99, cascade_model=True\n",
    "    ):\n",
    "        self.user_segment = user_segment\n",
    "        n_segments = len(np.unique(self.user_segment))\n",
    "        self.playlist_display = np.zeros((n_segments, n_playlists))\n",
    "        self.playlist_success = np.zeros((n_segments, n_playlists))\n",
    "        self.alpha_zero = alpha_zero\n",
    "        self.beta_zero = beta_zero\n",
    "        self.t = 0\n",
    "        self.cascade_model = cascade_model\n",
    "\n",
    "    def recommend_to_users_batch(self, batch_users, n_recos=12, l_init=3):\n",
    "        user_segment = np.take(self.user_segment, batch_users)\n",
    "        user_displays = np.take(self.playlist_display, user_segment, axis=0).astype(\n",
    "            float\n",
    "        )\n",
    "        user_success = np.take(self.playlist_success, user_segment, axis=0)\n",
    "        user_score = np.random.beta(\n",
    "            self.alpha_zero + user_success,\n",
    "            self.beta_zero + user_displays - user_success,\n",
    "        )\n",
    "        user_choice = np.argsort(-user_score)[:, :n_recos]\n",
    "        # Shuffle l_init first slots\n",
    "        np.random.shuffle(user_choice[0:l_init])\n",
    "        return user_choice\n",
    "\n",
    "    def update_policy(self, user_ids, recos, rewards, l_init=3):\n",
    "        batch_size = len(user_ids)\n",
    "        for i in range(batch_size):\n",
    "            user_segment = self.user_segment[user_ids[i]]\n",
    "            total_stream = len(rewards[i].nonzero())\n",
    "            nb_display = 0\n",
    "            for p, r in zip(recos[i], rewards[i]):\n",
    "                nb_display += 1\n",
    "                self.playlist_success[user_segment][p] += r\n",
    "                self.playlist_display[user_segment][p] += 1\n",
    "                if self.cascade_model and (\n",
    "                    (total_stream == 0 and nb_display == l_init) or (r == 1)\n",
    "                ):\n",
    "                    break\n",
    "        return"
   ]
  },
  {
   "cell_type": "code",
   "execution_count": 136,
   "metadata": {},
   "outputs": [
    {
     "name": "stderr",
     "output_type": "stream",
     "text": [
      "3it [00:04,  1.34s/it][00:00<?, ?it/s]\n",
      "3it [00:04,  1.36s/it][00:04<01:17,  4.09s/it]\n",
      "3it [00:03,  1.33s/it][00:08<01:13,  4.11s/it]\n",
      "3it [00:03,  1.33s/it][00:12<01:09,  4.08s/it]\n",
      "3it [00:03,  1.30s/it][00:16<01:04,  4.06s/it]\n",
      "3it [00:03,  1.30s/it][00:20<01:00,  4.02s/it]\n",
      "3it [00:03,  1.29s/it][00:24<00:55,  3.99s/it]\n",
      "3it [00:03,  1.31s/it][00:28<00:51,  3.96s/it]\n",
      "3it [00:03,  1.29s/it][00:32<00:47,  3.97s/it]\n",
      "3it [00:03,  1.29s/it][00:35<00:43,  3.95s/it]\n",
      "3it [00:03,  1.29s/it] [00:39<00:39,  3.94s/it]\n",
      "3it [00:03,  1.28s/it] [00:43<00:35,  3.92s/it]\n",
      "3it [00:03,  1.29s/it] [00:47<00:31,  3.92s/it]\n",
      "3it [00:03,  1.30s/it] [00:51<00:27,  3.91s/it]\n",
      "3it [00:03,  1.29s/it] [00:55<00:23,  3.92s/it]\n",
      "3it [00:03,  1.29s/it] [00:59<00:19,  3.91s/it]\n",
      "3it [00:03,  1.29s/it] [01:03<00:15,  3.92s/it]\n",
      "3it [00:03,  1.29s/it] [01:07<00:11,  3.92s/it]\n",
      "3it [00:03,  1.29s/it] [01:11<00:07,  3.92s/it]\n",
      "3it [00:03,  1.31s/it] [01:15<00:03,  3.92s/it]\n",
      "100%|██████████| 20/20 [01:19<00:00,  3.95s/it]\n"
     ]
    }
   ],
   "source": [
    "# 각 round 마다 random 하게 유저를 선택\n",
    "n_rounds = 20\n",
    "n_users_per_round = 20000\n",
    "\n",
    "policies = [\n",
    "    RandomPolicy(n_playlists),\n",
    "    EpsilonGreedySegmentPolicy(user_segment, n_playlists, 0.1),\n",
    "    TSSegmentPolicy(user_segment, n_playlists),\n",
    "]\n",
    "\n",
    "n_policies = len(policies)\n",
    "policies_name = [\"Random\", \"EpsilonGreedySegment\"]\n",
    "overall_rewards = np.zeros((n_policies, n_rounds))\n",
    "overall_optimal_reward = np.zeros(n_rounds)\n",
    "\n",
    "for i in tqdm(range(n_rounds)):\n",
    "    user_ids = np.random.choice(range(n_users), n_users_per_round)\n",
    "    overall_optimal_reward[i] = np.take(cont_env.th_rewards, user_ids).sum()\n",
    "    # 각 policy 별로 reward 계산\n",
    "    for j, policy in tqdm(enumerate(policies)):\n",
    "        recos = policy.recommend_to_users_batch(user_ids, n_recos, l_init)\n",
    "        rewards = cont_env.simulate_batch_users_reward(user_ids, recos.astype(np.int64))\n",
    "        policy.update_policy(user_ids, recos, rewards, l_init)\n",
    "        overall_rewards[j, i] = rewards.sum()\n",
    "    # print(f\"[ Round {i} cumulative regret ]\")\n",
    "    # for i in range(n_policies):\n",
    "    #     print(f\"{policies_name[i]}: {round(np.sum(overall_optimal_reward - overall_rewards[i]))}\")\n",
    "    # print(\"\")"
   ]
  },
  {
   "cell_type": "code",
   "execution_count": 138,
   "metadata": {},
   "outputs": [],
   "source": [
    "n_policies = len(policies)\n",
    "policies_name = [\"Random\", \"EpsilonGreedySegment\", \"TSSegment\"]\n",
    "cumulative_regrets = {\n",
    "    policies_name[j]: list(np.cumsum(overall_optimal_reward - overall_rewards[j]))\n",
    "    for j in range(n_policies)\n",
    "}"
   ]
  },
  {
   "cell_type": "code",
   "execution_count": 140,
   "metadata": {},
   "outputs": [
    {
     "data": {
      "text/plain": [
       "<matplotlib.legend.Legend at 0x1347b2150>"
      ]
     },
     "execution_count": 140,
     "metadata": {},
     "output_type": "execute_result"
    },
    {
     "data": {
      "image/png": "[encoded data removed]",
      "text/plain": [
       "<Figure size 640x480 with 1 Axes>"
      ]
     },
     "metadata": {},
     "output_type": "display_data"
    }
   ],
   "source": [
    "for policy, cum_reg in cumulative_regrets.items():\n",
    "    plt.plot(cum_reg, label=policy)\n",
    "plt.legend(policies_name)"
   ]
  },
  {
   "cell_type": "code",
   "execution_count": null,
   "metadata": {},
   "outputs": [],
   "source": []
  }
 ],
 "metadata": {
  "kernelspec": {
   "display_name": "bandit-study-vyO1svtn-py3.11",
   "language": "python",
   "name": "python3"
  },
  "language_info": {
   "codemirror_mode": {
    "name": "ipython",
    "version": 3
   },
   "file_extension": ".py",
   "mimetype": "text/x-python",
   "name": "python",
   "nbconvert_exporter": "python",
   "pygments_lexer": "ipython3",
   "version": "3.11.9"
  }
 },
 "nbformat": 4,
 "nbformat_minor": 2
}
